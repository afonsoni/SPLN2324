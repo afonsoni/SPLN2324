{
 "cells": [
  {
   "cell_type": "markdown",
   "metadata": {},
   "source": [
    "Create Gensim Model with Harry Potter"
   ]
  },
  {
   "cell_type": "code",
   "execution_count": 43,
   "metadata": {},
   "outputs": [],
   "source": [
    "# Create Gensim Model with Harry Potter\n",
    "import gensim\n",
    "from gensim.models import Word2Vec\n",
    "\n",
    "f1 = open(\"HP.txt\", encoding=\"utf-8\")\n",
    "\n",
    "frases = []\n",
    "for line in f1:\n",
    "    frases.append(list(gensim.utils.tokenize(line, lower=True)))"
   ]
  },
  {
   "cell_type": "code",
   "execution_count": 44,
   "metadata": {},
   "outputs": [
    {
     "data": {
      "text/plain": [
       "['vamos', 'ver', 'como', 'é', 'que', 'fazes']"
      ]
     },
     "execution_count": 44,
     "metadata": {},
     "output_type": "execute_result"
    }
   ],
   "source": [
    "list(gensim.utils.tokenize(\"Vamos ver como é que fazes.\", lower=True))"
   ]
  },
  {
   "cell_type": "code",
   "execution_count": 45,
   "metadata": {},
   "outputs": [],
   "source": [
    "model = Word2Vec(frases, vector_size=100, sg=1, epochs=10, workers=4)"
   ]
  },
  {
   "cell_type": "code",
   "execution_count": 46,
   "metadata": {},
   "outputs": [
    {
     "data": {
      "text/plain": [
       "array([-0.07470907, -0.00388979,  0.1234678 ,  0.26434854, -0.10191957,\n",
       "       -0.42571682,  0.03754611,  0.21241292, -0.3263737 , -0.32822978,\n",
       "        0.10995228, -0.12316298, -0.10274521,  0.16446069,  0.05281355,\n",
       "        0.16827942,  0.2158192 ,  0.0829077 , -0.3011696 , -0.7818589 ,\n",
       "       -0.00655204,  0.1445673 ,  0.32502687, -0.07471096, -0.1451106 ,\n",
       "        0.05770796, -0.04713841,  0.30550358, -0.25996414,  0.291507  ,\n",
       "        0.20469476,  0.00952479,  0.21001075, -0.42610198, -0.0691738 ,\n",
       "        0.12687358,  0.11699329, -0.24078651, -0.00448572,  0.08426376,\n",
       "        0.29601187, -0.1615196 , -0.03886849, -0.03308492,  0.35020447,\n",
       "       -0.39462385,  0.0842937 , -0.25845242,  0.44615707,  0.13779382,\n",
       "        0.07294019, -0.25894824,  0.31001356,  0.11216268, -0.3104029 ,\n",
       "        0.0437241 , -0.20754327,  0.0675364 ,  0.07530972,  0.2638941 ,\n",
       "        0.29536438, -0.15477264,  0.3128752 ,  0.12783472, -0.17456762,\n",
       "        0.20644079,  0.05165821,  0.3284177 , -0.149106  ,  0.06888669,\n",
       "       -0.09802201,  0.00302891, -0.03025491,  0.25825694, -0.03367988,\n",
       "        0.12423772,  0.19426702,  0.02893703,  0.09946363, -0.03053112,\n",
       "       -0.18536517,  0.00520305, -0.05167512,  0.00435181, -0.09137526,\n",
       "       -0.07121202,  0.24261053,  0.23716623,  0.12009972,  0.22866721,\n",
       "        0.21515076, -0.02657395, -0.02139299, -0.06775739,  0.3520604 ,\n",
       "       -0.03522544,  0.25019622,  0.12980835,  0.14517498, -0.07050437],\n",
       "      dtype=float32)"
      ]
     },
     "execution_count": 46,
     "metadata": {},
     "output_type": "execute_result"
    }
   ],
   "source": [
    "model.wv['harry']"
   ]
  },
  {
   "cell_type": "code",
   "execution_count": 47,
   "metadata": {},
   "outputs": [
    {
     "data": {
      "text/plain": [
       "1936"
      ]
     },
     "execution_count": 47,
     "metadata": {},
     "output_type": "execute_result"
    }
   ],
   "source": [
    "len(model.wv)"
   ]
  },
  {
   "cell_type": "code",
   "execution_count": 48,
   "metadata": {},
   "outputs": [
    {
     "data": {
      "text/plain": [
       "[('ron', 0.8409819602966309),\n",
       " ('subitamente', 0.8257972002029419),\n",
       " ('neville', 0.8183011412620544),\n",
       " ('seamus', 0.8087281584739685),\n",
       " ('hermione', 0.7872349619865417),\n",
       " ('hagrid', 0.7839834690093994),\n",
       " ('ela', 0.7762206196784973),\n",
       " ('espantado', 0.7741916179656982),\n",
       " ('apontando', 0.7708225250244141),\n",
       " ('aliviado', 0.7676618695259094)]"
      ]
     },
     "execution_count": 48,
     "metadata": {},
     "output_type": "execute_result"
    }
   ],
   "source": [
    "model.wv.most_similar('harry')"
   ]
  },
  {
   "cell_type": "code",
   "execution_count": 49,
   "metadata": {},
   "outputs": [],
   "source": [
    "model.save('models/hp.model')"
   ]
  },
  {
   "cell_type": "code",
   "execution_count": 50,
   "metadata": {},
   "outputs": [
    {
     "name": "stdout",
     "output_type": "stream",
     "text": [
      "[-0.07470907 -0.00388979  0.1234678   0.26434854 -0.10191957 -0.42571682\n",
      "  0.03754611  0.21241292 -0.3263737  -0.32822978  0.10995228 -0.12316298\n",
      " -0.10274521  0.16446069  0.05281355  0.16827942  0.2158192   0.0829077\n",
      " -0.3011696  -0.7818589  -0.00655204  0.1445673   0.32502687 -0.07471096\n",
      " -0.1451106   0.05770796 -0.04713841  0.30550358 -0.25996414  0.291507\n",
      "  0.20469476  0.00952479  0.21001075 -0.42610198 -0.0691738   0.12687358\n",
      "  0.11699329 -0.24078651 -0.00448572  0.08426376  0.29601187 -0.1615196\n",
      " -0.03886849 -0.03308492  0.35020447 -0.39462385  0.0842937  -0.25845242\n",
      "  0.44615707  0.13779382  0.07294019 -0.25894824  0.31001356  0.11216268\n",
      " -0.3104029   0.0437241  -0.20754327  0.0675364   0.07530972  0.2638941\n",
      "  0.29536438 -0.15477264  0.3128752   0.12783472 -0.17456762  0.20644079\n",
      "  0.05165821  0.3284177  -0.149106    0.06888669 -0.09802201  0.00302891\n",
      " -0.03025491  0.25825694 -0.03367988  0.12423772  0.19426702  0.02893703\n",
      "  0.09946363 -0.03053112 -0.18536517  0.00520305 -0.05167512  0.00435181\n",
      " -0.09137526 -0.07121202  0.24261053  0.23716623  0.12009972  0.22866721\n",
      "  0.21515076 -0.02657395 -0.02139299 -0.06775739  0.3520604  -0.03522544\n",
      "  0.25019622  0.12980835  0.14517498 -0.07050437]\n"
     ]
    }
   ],
   "source": [
    "# Store just the words + their trained embeddings.\n",
    "\n",
    "from gensim.models import KeyedVectors\n",
    "\n",
    "word_vectors = model.wv\n",
    "word_vectors.save('models/hp.wordvectors')\n",
    "\n",
    "wv = KeyedVectors.load('models/hp.wordvectors')\n",
    "vector = wv['harry']\n",
    "print(vector)"
   ]
  },
  {
   "cell_type": "code",
   "execution_count": 51,
   "metadata": {},
   "outputs": [],
   "source": [
    "word_vectors.save_word2vec_format('models/vectors_HP.txt', binary=False)\n",
    "word_vectors.save_word2vec_format('models/vectors_HP.bin', binary=True)"
   ]
  },
  {
   "cell_type": "code",
   "execution_count": 52,
   "metadata": {},
   "outputs": [],
   "source": [
    "model_txt = KeyedVectors.load_word2vec_format('models/vectors_HP.txt', binary=False)\n",
    "model_bin = KeyedVectors.load_word2vec_format('models/vectors_HP.bin', binary=True)"
   ]
  },
  {
   "cell_type": "code",
   "execution_count": 56,
   "metadata": {},
   "outputs": [
    {
     "name": "stdout",
     "output_type": "stream",
     "text": [
      "[('estão', 0.8059589266777039), ('slytherin', 0.7874724268913269), ('teus', 0.7865353226661682), ('primeiros', 0.7826184034347534), ('equipa', 0.7802175283432007), ('pais', 0.7788046002388), ('alunos', 0.7784847021102905), ('taça', 0.7717999219894409), ('irmãos', 0.768558919429779), ('devem', 0.7680322527885437)]\n"
     ]
    }
   ],
   "source": [
    "result = word_vectors.most_similar(positive=['gryffindor', 'snape'], negative=['harry'])\n",
    "print(result)"
   ]
  },
  {
   "cell_type": "code",
   "execution_count": 57,
   "metadata": {},
   "outputs": [
    {
     "name": "stdout",
     "output_type": "stream",
     "text": [
      "[('slytherin', 0.9294866323471069), ('pontos', 0.9273676872253418), ('primeiros', 0.9273573160171509), ('alunos', 0.9267796277999878), ('cinquenta', 0.9103512763977051), ('professores', 0.8854832053184509), ('gémeos', 0.8728287220001221), ('hufflepuff', 0.8682437539100647), ('taça', 0.866304337978363), ('estudantes', 0.8597885370254517)]\n"
     ]
    }
   ],
   "source": [
    "result = word_vectors.most_similar('gryffindor')\n",
    "print(result)"
   ]
  },
  {
   "cell_type": "code",
   "execution_count": 58,
   "metadata": {},
   "outputs": [
    {
     "name": "stdout",
     "output_type": "stream",
     "text": [
      "[('estão', 0.8990925550460815), ('irmãos', 0.8876822590827942), ('têm', 0.885136067867279), ('pais', 0.8783916234970093), ('teus', 0.876813530921936), ('melhores', 0.8687238097190857), ('livros', 0.8658410310745239), ('bruxas', 0.8636989593505859), ('estes', 0.8600010275840759), ('muitos', 0.8597856163978577)]\n"
     ]
    }
   ],
   "source": [
    "result = word_vectors.most_similar(positive=['draco', 'slytherin'], negative=['harry'])\n",
    "print(result)"
   ]
  },
  {
   "cell_type": "code",
   "execution_count": 59,
   "metadata": {},
   "outputs": [
    {
     "name": "stdout",
     "output_type": "stream",
     "text": [
      "2024-04-09 15:42:56,951 - word2vec2tensor - INFO - running /Users/afonsoni/miniconda3/lib/python3.11/site-packages/gensim/scripts/word2vec2tensor.py --input models/vectors_HP.txt --output models/vectors_HP\n",
      "2024-04-09 15:42:56,951 - keyedvectors - INFO - loading projection weights from models/vectors_HP.txt\n",
      "2024-04-09 15:42:57,037 - utils - INFO - KeyedVectors lifecycle event {'msg': 'loaded (1936, 100) matrix of type float32 from models/vectors_HP.txt', 'binary': False, 'encoding': 'utf8', 'datetime': '2024-04-09T15:42:57.021317', 'gensim': '4.3.2', 'python': '3.11.6 | packaged by conda-forge | (main, Oct  3 2023, 10:37:07) [Clang 15.0.7 ]', 'platform': 'macOS-14.4.1-arm64-arm-64bit', 'event': 'load_word2vec_format'}\n",
      "2024-04-09 15:42:57,117 - word2vec2tensor - INFO - 2D tensor file saved to models/vectors_HP_tensor.tsv\n",
      "2024-04-09 15:42:57,118 - word2vec2tensor - INFO - Tensor metadata file saved to models/vectors_HP_metadata.tsv\n",
      "2024-04-09 15:42:57,118 - word2vec2tensor - INFO - finished running word2vec2tensor.py\n"
     ]
    }
   ],
   "source": [
    "!python -m gensim.scripts.word2vec2tensor --input models/vectors_HP.txt --output models/vectors_HP"
   ]
  },
  {
   "cell_type": "code",
   "execution_count": null,
   "metadata": {},
   "outputs": [],
   "source": []
  }
 ],
 "metadata": {
  "kernelspec": {
   "display_name": "base",
   "language": "python",
   "name": "python3"
  },
  "language_info": {
   "codemirror_mode": {
    "name": "ipython",
    "version": 3
   },
   "file_extension": ".py",
   "mimetype": "text/x-python",
   "name": "python",
   "nbconvert_exporter": "python",
   "pygments_lexer": "ipython3",
   "version": "3.11.6"
  }
 },
 "nbformat": 4,
 "nbformat_minor": 2
}
